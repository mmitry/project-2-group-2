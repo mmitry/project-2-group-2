# Import the dependencies
import pandas as pd
import numpy as np
import datetime

# Plotting
import matplotlib.pyplot as plt
import seaborn as sns

# ORM Stuff
from sqlalchemy import create_engine, inspect, text, func
from sqlalchemy.orm import Session
from sqlalchemy.ext.automap import automap_base


# CONNECT TO POSTGRES
USERNAME = "postgres"
PASSWORD = "postgres"
HOST = "localhost"
PORT = 5432
DATABASE = "Crowd_funding"
connection_str = f"postgresql://{USERNAME}:{PASSWORD}@{HOST}:{PORT}/{DATABASE}"

# Create Engine
engine = create_engine(connection_str)


# Create the inspector and connect it to the engine
inspector = inspect(engine)

# Collect the names of tables within the database
tables = inspector.get_table_names()

# Using the inspector to print the column names within the 'dow' table and its types
for table in tables:
    print(table)
    print("--------")
    columns = inspector.get_columns(table)
    for column in columns:
        print(column["name"], column["type"])

    print()


# ORDER MATTERS. 
conn = engine.connect()


# Backers count Per campaign grouped by outcome(successful, failed, live or cancelled)

query = text(f"""
SELECT 
    outcome,
    SUM(backers_count) AS total_backers
FROM 
    campaign
GROUP BY 
    outcome;
""")

df = pd.read_sql(query, con=conn)
df.head()


#backers count per category

query = text(f"""
SELECT 
    c.category,
    SUM(backers_count) AS total_backers
FROM 
    campaign cd
JOIN category c ON cd.category_id = c.category_id
GROUP BY c.category
ORDER BY total_backers DESC;

""")

df = pd.read_sql(query, con=conn)
df.head()


#Successful campaign per country
query = text(f"""
SELECT
    co.country,
    COUNT(*) AS successful_campaigns
FROM
    campaign co
WHERE
    outcome = 'successful'
GROUP BY
    co.country
ORDER BY
    successful_campaigns DESC;
""")


df = pd.read_sql(query, con=conn)
df.head()





#4.Total pledged amount per subcategory
query = text(f"""
SELECT
    subcategory,
    SUM(pledged) AS total_pledged
FROM
    campaign
GROUP BY
    subcategory
ORDER BY
    total_pledged DESC;
""")


df = pd.read_sql(query, con=conn)
df.head() 


#5.Subcategory based on successful campaign
query = text(f"""
SELECT co.subcategory, 
	COUNT(co.cf_id) AS successful_campaigns
FROM campaign co 
	WHERE co.outcome = 'successful'
GROUP BY co.subcategory 
ORDER BY successful_campaigns DESC;
""")


df = pd.read_sql(query, con=conn)
df.head() 


# Create a basic plot
plt.barh(df.subcategory, df.successful_campaigns, color="firebrick", align="center")

# Customizations

# Change colors
# Add in reference lines
# Add Labels/Title
plt.xlabel("Number of Campaigns", fontfamily="Arial", fontsize=12)
plt.ylabel("Category", fontfamily="Arial", fontsize=12)
plt.title("Number of successful campaign per subcategory", fontweight="bold", fontsize=16, fontfamily="Arial")

# Set X/Y Limits
plt.xlim(0, 250)

# Add in a background grid
plt.grid(axis="x", linestyle="--", color="lightgrey", alpha=0.75)

# Show/Save the Graph
plt.tight_layout()
#plt.savefig("part4_categories.png")
plt.show()



