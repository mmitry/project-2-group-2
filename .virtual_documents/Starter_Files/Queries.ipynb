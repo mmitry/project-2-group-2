# Import dependencies
import pandas as pd
import numpy as np
import matplotlib.pyplot as plt


# Read the data into a Pandas DataFrame
crowdfunding_info_df = pd.read_csv('Resources/campaign.csv')
crowdfunding_info_df.head()


campaign_df = crowdfunding_info_df.copy()
campaign_df.head()


print(campaign_df.columns)


# Show the most populat category per backers_count 
# Group by category_id and calculate the sum of backers_count for each category
category_popularity = campaign_df.groupby('category_id')['backers_count'].sum().reset_index()

# Merge with the Category DataFrame to get the category names
category_popularity = category_popularity.merge(campaign_df[['category_id', 'category']].drop_duplicates(),
                                                on='category_id', how='left')

# Sort by backers_count to get the most popular categories
category_popularity = category_popularity.sort_values(by='backers_count', ascending=False)

# Display the top categories
print(category_popularity[['category', 'backers_count']])


# Plot a bar chart
plt.figure(figsize=(10, 6))  # Set figure size
plt.bar(category_popularity['category'], category_popularity['backers_count'], color='purple')

# Add titles and labels
plt.title('Most Popular Campaign Categories by Backers Count', fontsize=14)
plt.xlabel('Campaign Category', fontsize=12)
plt.ylabel('Total Backers Count', fontsize=12)

# Rotate x-axis labels for readability
plt.xticks(rotation=45, ha='right')

# Show the plot
plt.show()


#pgAdmin code 
#SELECT c.category,
       #SUM(cd.backers_count) AS total_backers
#FROM campaign_data cd
#JOIN category c
  #ON cd.category_id = c.category_id
#GROUP BY c.category
#ORDER BY total_backers DESC;



