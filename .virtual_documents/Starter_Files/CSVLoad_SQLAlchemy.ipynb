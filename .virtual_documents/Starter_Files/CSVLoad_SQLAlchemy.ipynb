#Import dependencies
import pandas as pd
import numpy as np
import datetime

#plotting
#import matplotlib.pylot as plt
import seaborn as sns

#ORM Stuff
from sqlalchemy import create_engine, inspect, text, func
from sqlalchemy.orm import Session
from sqlalchemy.ext.automap import automap_base


# CONNECT TO POSTGRES
USERNAME = "postgres"
PASSWORD = "postgres"
HOST = "localhost"
PORT = 5432
DATABASE = "Crowd_funding"
connection_str = f"postgresql://{USERNAME}:{PASSWORD}@{HOST}:{PORT}/{DATABASE}"

# Create Engine
engine = create_engine(connection_str)


# Initalize Threads
conn = engine.connect()


# ORDER MATTERS. 
df = pd.read_csv("Resources/output/contacts.csv")
df.head()

# Write to SQL from "contact"
df.to_sql(name="contacts", con=conn, index=False, if_exists="append", method="multi")
conn.execute(text('select * from contacts')).all()


# ORDER MATTERS. 
df = pd.read_csv("Resources/output/category.csv")
df.head()

# Write to SQL from "contact"
df.to_sql(name="category", con=conn, index=False, if_exists="append", method="multi")
conn.execute(text('select * from category')).all()


# ORDER MATTERS. 
df = pd.read_csv("Resources/output/subcategory.csv")
df.head()

# Write to SQL from "contact"
df.to_sql(name="subcategory", con=conn, index=False, if_exists="append", method="multi")
conn.execute(text('select * from subcategory')).all()


# ORDER MATTERS. 
df = pd.read_csv("Resources/output/campaign.csv")
df.head()

# Write to SQL from "contact"
df.to_sql(name="campaign", con=conn, index=False, if_exists="append", method="multi")
conn.execute(text('select * from campaign')).all()



