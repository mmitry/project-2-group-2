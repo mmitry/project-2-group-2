# Import dependencies
import pandas as pd
import numpy as np
# Set the column width
pd.set_option('max_colwidth', 400)


#Extract the crowdfunding.xlsx Data


# Read the data into a Pandas DataFrame
crowdfunding_info_df = pd.read_excel('Resources/crowdfunding.xlsx')
crowdfunding_info_df.head()


# Read the category CSV into a Pandas DataFrame
Category = pd.read_csv('Resources/category.csv')
Category.head


# Read the sub-category CSV into a Pandas DataFrame
Sub_Category = pd.read_csv('Resources/subcategory.csv')
Sub_Category.head


# Create a copy of the crowdfunding_info_df DataFrame name campaign_df.
campaign_df = crowdfunding_info_df.copy()
campaign_df.head()


# Rename the blurb, launched_at, and deadline columns.
campaign_df.rename(columns={
    'blurb': 'description',
    'launched_at': 'launch_date',
    'deadline': 'end_date'
}, inplace=True)

campaign_df.head()


# Convert the goal and pledged columns to a `float` data type.
campaign_df['goal'] = pd.to_numeric(campaign_df['goal'], errors='coerce')
campaign_df['pledged'] = pd.to_numeric(campaign_df['pledged'], errors='coerce')
campaign_df.info()


# Format the launch_date and end_date columns to datetime format
campaign_df['launch_date'] = pd.to_datetime(campaign_df['launch_date'], errors='coerce')
campaign_df['end_date'] = pd.to_datetime(campaign_df['end_date'], errors='coerce')
campaign_df.head()


print(campaign_df.columns)


#Split the 'category & sub-category' column into two separate columns: 'category' and 'subcategory'
campaign_df[['category', 'subcategory']] = campaign_df['category & sub-category'].str.split(' & ', expand=True)
campaign_df.head()


print(campaign_df[['category', 'subcategory']].head())



# Split the 'category & sub-category' column by '/' and create two new columns: 'category' and 'subcategory'
campaign_df[['category', 'subcategory']] = campaign_df['category & sub-category'].str.split('/', expand=True)
campaign_df


# Map category_id from the category DataFrame
category_mapping = dict(zip(Category['category'], Category['category_id']))
campaign_df['category_id'] = campaign_df['category'].map(category_mapping)
campaign_df.head()


subcategory_mapping = dict(zip(Sub_Category['subcategory'], Sub_Category['subcategory_id']))
campaign_df['subcategory_id'] = campaign_df['subcategory'].map(subcategory_mapping)
campaign_df.head()


# Drop the unwanted columns including 'staff_pick' and 'spotlight'
campaign_df.drop(columns=['staff_pick', 'spotlight', 'category & sub-category'], inplace=True)
campaign_df.head()


# Export the campaign DataFrame as 'campaign.csv'
campaign_df.to_csv('campaign.csv', index=False)

# Confirm that the file has been saved
print("campaign.csv has been exported successfully.")



