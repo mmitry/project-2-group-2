{
 "cells": [
  {
   "cell_type": "code",
   "execution_count": 1,
   "id": "318f2468-2de4-4650-95b9-157afb8b1014",
   "metadata": {},
   "outputs": [],
   "source": [
    " # Import the dependencies\n",
    "import pandas as pd\n",
    "import numpy as np\n",
    "import datetime\n",
    "\n",
    "# Plotting\n",
    "import matplotlib.pyplot as plt\n",
    "import seaborn as sns\n",
    "\n",
    "# ORM Stuff\n",
    "from sqlalchemy import create_engine, inspect, text, func\n",
    "from sqlalchemy.orm import Session\n",
    "from sqlalchemy.ext.automap import automap_base"
   ]
  },
  {
   "cell_type": "code",
   "execution_count": 4,
   "id": "d4aae7a5-8081-40da-a0a6-8b85ec65b87f",
   "metadata": {},
   "outputs": [],
   "source": [
    " # CONNECT TO POSTGRES\n",
    "USERNAME = \"postgres\"\n",
    "PASSWORD = \"Mfau2014&\"\n",
    "HOST = \"localhost\"\n",
    "PORT = 5432\n",
    "DATABASE = \"crowd_funding\"\n",
    "connection_str = f\"postgresql://{USERNAME}:{PASSWORD}@{HOST}:{PORT}/{DATABASE}\"\n",
    "\n",
    "# Create Engine\n",
    "engine = create_engine(connection_str)"
   ]
  },
  {
   "cell_type": "code",
   "execution_count": 5,
   "id": "b4b7e27b-1fdb-4945-b274-0e1bff0b11a4",
   "metadata": {},
   "outputs": [
    {
     "name": "stdout",
     "output_type": "stream",
     "text": [
      "contacts\n",
      "--------\n",
      "contact_id BIGINT\n",
      "first_name TEXT\n",
      "last_name TEXT\n",
      "email TEXT\n",
      "\n"
     ]
    }
   ],
   "source": [
    "# Create the inspector and connect it to the engine\n",
    "inspector = inspect(engine)\n",
    "\n",
    "# Collect the names of tables within the database\n",
    "tables = inspector.get_table_names()\n",
    "\n",
    "# Using the inspector to print the column names within the 'dow' table and its types\n",
    "for table in tables:\n",
    "    print(table)\n",
    "    print(\"--------\")\n",
    "    columns = inspector.get_columns(table)\n",
    "    for column in columns:\n",
    "        print(column[\"name\"], column[\"type\"])\n",
    "\n",
    "    print()"
   ]
  },
  {
   "cell_type": "code",
   "execution_count": null,
   "id": "10277d1d-8387-4740-bbdf-cf82371b2d3a",
   "metadata": {},
   "outputs": [],
   "source": []
  }
 ],
 "metadata": {
  "kernelspec": {
   "display_name": "dev",
   "language": "python",
   "name": "dev"
  },
  "language_info": {
   "codemirror_mode": {
    "name": "ipython",
    "version": 3
   },
   "file_extension": ".py",
   "mimetype": "text/x-python",
   "name": "python",
   "nbconvert_exporter": "python",
   "pygments_lexer": "ipython3",
   "version": "3.10.15"
  }
 },
 "nbformat": 4,
 "nbformat_minor": 5
}
